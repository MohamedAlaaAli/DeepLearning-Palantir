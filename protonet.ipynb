{
 "cells": [
  {
   "cell_type": "code",
   "execution_count": 28,
   "metadata": {},
   "outputs": [],
   "source": [
    "import torch\n",
    "import random\n",
    "import numpy as np\n",
    "import torch.nn as nn\n",
    "from torch.utils.data import DataLoader, Dataset\n",
    "from torchvision.datasets import Omniglot\n",
    "import torchvision.transforms as transforms\n",
    "import torch.optim as optim\n",
    "from torch.optim.lr_scheduler import StepLR\n",
    "import torch.nn.functional as F"
   ]
  },
  {
   "cell_type": "code",
   "execution_count": 3,
   "metadata": {},
   "outputs": [],
   "source": [
    "class OmniglotFewShot(Dataset):\n",
    "    def __init__(self, root, mode=\"train\", transform=None, n_way=5, k_shots=5, n_query=5):\n",
    "        super(OmniglotFewShot, self).__init__()\n",
    "        self.root = root\n",
    "        self.transform = transform\n",
    "        self.n_way = n_way\n",
    "        self.k_shots = k_shots\n",
    "        self.n_query = n_query\n",
    "        self.mode = mode\n",
    "        self.data = Omniglot(root=self.root, background=True if self.mode == \"train\" else False, download=True, transform=self.transform)\n",
    "        self.indices_by_class = self._create_indices_by_class()\n",
    "\n",
    "    def _create_indices_by_class(self):\n",
    "        indices_by_class = {}\n",
    "        for idx, (_, label) in enumerate(self.data):\n",
    "            if label not in indices_by_class:\n",
    "                indices_by_class[label] = []\n",
    "            indices_by_class[label].append(idx)\n",
    "        return indices_by_class\n",
    "\n",
    "    def __len__(self):\n",
    "        return len(self.indices_by_class)\n",
    "\n",
    "    def __getitem__(self, _):\n",
    "        class_indices = np.random.choice(list(self.indices_by_class.keys()), self.n_way, replace=False)\n",
    "        \n",
    "        support_set = []\n",
    "        query_set = []\n",
    "        support_labels = []\n",
    "        query_labels = []\n",
    "\n",
    "        for class_index in class_indices:\n",
    "            indices = np.random.choice(self.indices_by_class[class_index], self.k_shots + self.n_query, replace=False)\n",
    "            class_support_set_indices = indices[:self.k_shots]\n",
    "            class_query_set_indices = indices[self.k_shots:]\n",
    "\n",
    "            for i in class_support_set_indices:\n",
    "                image, _ = self.data[i]\n",
    "                support_set.append(image)\n",
    "                support_labels.append(class_index)\n",
    "\n",
    "            for i in class_query_set_indices:\n",
    "                image, _ = self.data[i]\n",
    "                query_set.append(image)\n",
    "                query_labels.append(class_index)\n",
    "\n",
    "        # Convert lists to tensors for PyTorch compatibility\n",
    "        support_set = torch.stack(support_set)\n",
    "        query_set = torch.stack(query_set)\n",
    "        support_labels = torch.tensor(support_labels)\n",
    "        query_labels = torch.tensor(query_labels)\n",
    "\n",
    "        return support_set, query_set, support_labels, query_labels\n"
   ]
  },
  {
   "cell_type": "code",
   "execution_count": 4,
   "metadata": {},
   "outputs": [],
   "source": [
    "class RandomRotation90:\n",
    "    def __call__(self, img):\n",
    "        angle = random.choice([0, 90, 180, 270])\n",
    "        return transforms.functional.rotate(img, angle)"
   ]
  },
  {
   "cell_type": "code",
   "execution_count": 5,
   "metadata": {},
   "outputs": [],
   "source": [
    "transform = transforms.Compose([\n",
    "    transforms.Resize((28, 28)),\n",
    "    RandomRotation90(),\n",
    "    transforms.ToTensor()\n",
    "])\n"
   ]
  },
  {
   "cell_type": "code",
   "execution_count": 6,
   "metadata": {},
   "outputs": [
    {
     "name": "stdout",
     "output_type": "stream",
     "text": [
      "Files already downloaded and verified\n",
      "Files already downloaded and verified\n"
     ]
    }
   ],
   "source": [
    "train_dataset = OmniglotFewShot(root='./data', mode='train', transform=transform, n_way=60, k_shots=5, n_query=5)\n",
    "test_dataset = OmniglotFewShot(root='./data', mode='test', transform=transform, n_way=5, k_shots=5, n_query=15)"
   ]
  },
  {
   "cell_type": "code",
   "execution_count": 7,
   "metadata": {},
   "outputs": [],
   "source": [
    "\n",
    "train_loader = DataLoader(train_dataset,shuffle=True)\n",
    "test_loader = DataLoader(test_dataset,shuffle=False)"
   ]
  },
  {
   "cell_type": "code",
   "execution_count": 8,
   "metadata": {},
   "outputs": [],
   "source": [
    "a = next(iter(train_loader))"
   ]
  },
  {
   "cell_type": "code",
   "execution_count": 14,
   "metadata": {},
   "outputs": [
    {
     "data": {
      "text/plain": [
       "tensor([[655, 655, 655, 655, 655, 924, 924, 924, 924, 924, 662, 662, 662, 662,\n",
       "         662, 834, 834, 834, 834, 834, 937, 937, 937, 937, 937, 205, 205, 205,\n",
       "         205, 205,  90,  90,  90,  90,  90, 672, 672, 672, 672, 672, 833, 833,\n",
       "         833, 833, 833,  71,  71,  71,  71,  71, 174, 174, 174, 174, 174, 685,\n",
       "         685, 685, 685, 685,  80,  80,  80,  80,  80, 535, 535, 535, 535, 535,\n",
       "         849, 849, 849, 849, 849, 429, 429, 429, 429, 429, 765, 765, 765, 765,\n",
       "         765, 492, 492, 492, 492, 492, 189, 189, 189, 189, 189, 959, 959, 959,\n",
       "         959, 959, 619, 619, 619, 619, 619, 351, 351, 351, 351, 351, 273, 273,\n",
       "         273, 273, 273, 154, 154, 154, 154, 154, 817, 817, 817, 817, 817, 352,\n",
       "         352, 352, 352, 352, 620, 620, 620, 620, 620, 644, 644, 644, 644, 644,\n",
       "         519, 519, 519, 519, 519, 819, 819, 819, 819, 819, 544, 544, 544, 544,\n",
       "         544, 216, 216, 216, 216, 216, 551, 551, 551, 551, 551, 841, 841, 841,\n",
       "         841, 841, 729, 729, 729, 729, 729,  42,  42,  42,  42,  42, 915, 915,\n",
       "         915, 915, 915, 101, 101, 101, 101, 101, 864, 864, 864, 864, 864, 157,\n",
       "         157, 157, 157, 157, 590, 590, 590, 590, 590,  52,  52,  52,  52,  52,\n",
       "         362, 362, 362, 362, 362, 431, 431, 431, 431, 431, 671, 671, 671, 671,\n",
       "         671, 727, 727, 727, 727, 727, 180, 180, 180, 180, 180,  41,  41,  41,\n",
       "          41,  41, 549, 549, 549, 549, 549, 263, 263, 263, 263, 263, 522, 522,\n",
       "         522, 522, 522, 376, 376, 376, 376, 376, 777, 777, 777, 777, 777, 914,\n",
       "         914, 914, 914, 914, 169, 169, 169, 169, 169, 900, 900, 900, 900, 900,\n",
       "         501, 501, 501, 501, 501, 199, 199, 199, 199, 199, 902, 902, 902, 902,\n",
       "         902, 472, 472, 472, 472, 472]])"
      ]
     },
     "execution_count": 14,
     "metadata": {},
     "output_type": "execute_result"
    }
   ],
   "source": [
    "a[3]"
   ]
  },
  {
   "cell_type": "code",
   "execution_count": 15,
   "metadata": {},
   "outputs": [
    {
     "data": {
      "image/png": "[encoded data removed]",
      "text/plain": [
       "<Figure size 1500x300 with 5 Axes>"
      ]
     },
     "metadata": {},
     "output_type": "display_data"
    }
   ],
   "source": [
    "import matplotlib.pyplot as plt\n",
    "\n",
    "def visualize_images(images, num_images=5):\n",
    "    fig, axes = plt.subplots(1, num_images, figsize=(num_images * 3, 3))\n",
    "    for i in range(num_images):\n",
    "        ax = axes[i]\n",
    "        ax.imshow(images[i][0], cmap='gray')  \n",
    "        ax.axis('off')\n",
    "    plt.show()\n",
    "\n",
    "visualize_images(a[0].squeeze(0), num_images=5)  "
   ]
  },
  {
   "cell_type": "code",
   "execution_count": 16,
   "metadata": {},
   "outputs": [
    {
     "data": {
      "image/png": "[encoded data removed]",
      "text/plain": [
       "<Figure size 1500x300 with 5 Axes>"
      ]
     },
     "metadata": {},
     "output_type": "display_data"
    }
   ],
   "source": [
    "visualize_images(a[1].squeeze(0), num_images=5)"
   ]
  },
  {
   "cell_type": "code",
   "execution_count": 17,
   "metadata": {},
   "outputs": [],
   "source": [
    "class Embedder(nn.Module):\n",
    "    def __init__(self):\n",
    "        super(Embedder, self).__init__()\n",
    "        self.in_channels = 1\n",
    "        self.out_channels = 64\n",
    "\n",
    "        self.encoder = nn.Sequential(\n",
    "            nn.Conv2d(self.in_channels, self.out_channels, kernel_size=3, padding=1),\n",
    "            nn.BatchNorm2d(self.out_channels),\n",
    "            nn.ReLU(),\n",
    "            nn.MaxPool2d(2),\n",
    "\n",
    "            nn.Conv2d(self.out_channels, self.out_channels, kernel_size=3, padding=1),\n",
    "            nn.BatchNorm2d(self.out_channels),\n",
    "            nn.ReLU(),\n",
    "            nn.MaxPool2d(2),\n",
    "\n",
    "            nn.Conv2d(self.out_channels, self.out_channels, kernel_size=3, padding=1),\n",
    "            nn.BatchNorm2d(self.out_channels),\n",
    "            nn.ReLU(),\n",
    "            nn.MaxPool2d(2),\n",
    "\n",
    "            nn.Conv2d(self.out_channels, self.out_channels, kernel_size=3, padding=1),\n",
    "            nn.BatchNorm2d(self.out_channels),\n",
    "            nn.ReLU(),\n",
    "            nn.MaxPool2d(2)\n",
    "        )\n",
    "\n",
    "        self.flatten = nn.Flatten()\n",
    "\n",
    "    def forward(self, x):\n",
    "        x = self.encoder(x)\n",
    "        x = self.flatten(x)\n",
    "        return x\n"
   ]
  },
  {
   "cell_type": "code",
   "execution_count": 18,
   "metadata": {},
   "outputs": [],
   "source": [
    "Embedder = Embedder()"
   ]
  },
  {
   "cell_type": "code",
   "execution_count": 36,
   "metadata": {},
   "outputs": [],
   "source": [
    "x = Embedder(a[0].squeeze(0))"
   ]
  },
  {
   "cell_type": "code",
   "execution_count": 20,
   "metadata": {},
   "outputs": [
    {
     "data": {
      "text/plain": [
       "torch.Size([300, 64])"
      ]
     },
     "execution_count": 20,
     "metadata": {},
     "output_type": "execute_result"
    }
   ],
   "source": [
    "x.shape"
   ]
  },
  {
   "cell_type": "code",
   "execution_count": 37,
   "metadata": {},
   "outputs": [
    {
     "data": {
      "text/plain": [
       "torch.Size([1, 300, 1, 28, 28])"
      ]
     },
     "execution_count": 37,
     "metadata": {},
     "output_type": "execute_result"
    }
   ],
   "source": [
    "a[0].shape"
   ]
  },
  {
   "cell_type": "code",
   "execution_count": 38,
   "metadata": {},
   "outputs": [
    {
     "data": {
      "text/plain": [
       "torch.Size([1, 300, 1, 28, 28])"
      ]
     },
     "execution_count": 38,
     "metadata": {},
     "output_type": "execute_result"
    }
   ],
   "source": [
    "a[1].shape"
   ]
  },
  {
   "cell_type": "code",
   "execution_count": 23,
   "metadata": {},
   "outputs": [
    {
     "data": {
      "text/plain": [
       "tensor([[True, True, True, True, True, True, True, True, True, True, True, True,\n",
       "         True, True, True, True, True, True, True, True, True, True, True, True,\n",
       "         True, True, True, True, True, True, True, True, True, True, True, True,\n",
       "         True, True, True, True, True, True, True, True, True, True, True, True,\n",
       "         True, True, True, True, True, True, True, True, True, True, True, True,\n",
       "         True, True, True, True, True, True, True, True, True, True, True, True,\n",
       "         True, True, True, True, True, True, True, True, True, True, True, True,\n",
       "         True, True, True, True, True, True, True, True, True, True, True, True,\n",
       "         True, True, True, True, True, True, True, True, True, True, True, True,\n",
       "         True, True, True, True, True, True, True, True, True, True, True, True,\n",
       "         True, True, True, True, True, True, True, True, True, True, True, True,\n",
       "         True, True, True, True, True, True, True, True, True, True, True, True,\n",
       "         True, True, True, True, True, True, True, True, True, True, True, True,\n",
       "         True, True, True, True, True, True, True, True, True, True, True, True,\n",
       "         True, True, True, True, True, True, True, True, True, True, True, True,\n",
       "         True, True, True, True, True, True, True, True, True, True, True, True,\n",
       "         True, True, True, True, True, True, True, True, True, True, True, True,\n",
       "         True, True, True, True, True, True, True, True, True, True, True, True,\n",
       "         True, True, True, True, True, True, True, True, True, True, True, True,\n",
       "         True, True, True, True, True, True, True, True, True, True, True, True,\n",
       "         True, True, True, True, True, True, True, True, True, True, True, True,\n",
       "         True, True, True, True, True, True, True, True, True, True, True, True,\n",
       "         True, True, True, True, True, True, True, True, True, True, True, True,\n",
       "         True, True, True, True, True, True, True, True, True, True, True, True,\n",
       "         True, True, True, True, True, True, True, True, True, True, True, True]])"
      ]
     },
     "execution_count": 23,
     "metadata": {},
     "output_type": "execute_result"
    }
   ],
   "source": [
    "a[2]==a[3]"
   ]
  },
  {
   "cell_type": "code",
   "execution_count": 26,
   "metadata": {},
   "outputs": [
    {
     "data": {
      "text/plain": [
       "torch.Size([1, 300])"
      ]
     },
     "execution_count": 26,
     "metadata": {},
     "output_type": "execute_result"
    }
   ],
   "source": [
    "a[2].shape"
   ]
  },
  {
   "cell_type": "code",
   "execution_count": 27,
   "metadata": {},
   "outputs": [
    {
     "data": {
      "text/plain": [
       "device(type='cuda')"
      ]
     },
     "execution_count": 27,
     "metadata": {},
     "output_type": "execute_result"
    }
   ],
   "source": [
    "device = torch.device(\"cuda\" if torch.cuda.is_available() else \"cpu\")\n",
    "device"
   ]
  },
  {
   "cell_type": "code",
   "execution_count": 39,
   "metadata": {},
   "outputs": [],
   "source": [
    "class Protonet(nn.Module):\n",
    "    def __init__(self, embedder):\n",
    "        super(Protonet, self).__init__()\n",
    "        self.embedder = embedder\n",
    "\n",
    "    def forward(self, support, query, n_way, k_shots):\n",
    "        \"\"\"\n",
    "        Perform the forward pass and compute the prototypes.\n",
    "\n",
    "        Parameters:\n",
    "        - support: The support set.\n",
    "        - query: The query set.\n",
    "        - n_way: The number of classes (ways).\n",
    "        - k_shots: The number of examples per class in the support set.\n",
    "\n",
    "        Returns:\n",
    "        - query_embeddings: The embeddings of the query set.\n",
    "        - prototypes: The class prototypes.\n",
    "        \"\"\"\n",
    "        # Embed support and query sets\n",
    "        print(support.shape)\n",
    "        support_embeddings = self.embedder(support.squeeze(0))\n",
    "        query_embeddings = self.embedder(query.squeeze(0))\n",
    "        \n",
    "        # Calculate the prototypes for each class in the support set\n",
    "        # Reshape support embeddings to [n_way, k_shots, embedding_size] and compute mean across k_shots\n",
    "        prototypes = support_embeddings.view(n_way, k_shots, -1).mean(dim=1)\n",
    "        \n",
    "        return query_embeddings, prototypes\n"
   ]
  },
  {
   "cell_type": "code",
   "execution_count": 40,
   "metadata": {},
   "outputs": [],
   "source": [
    "model = Protonet(Embedder)"
   ]
  },
  {
   "cell_type": "code",
   "execution_count": null,
   "metadata": {},
   "outputs": [],
   "source": [
    "\n",
    "def protonet_loss(query_embeddings, prototypes, query_labels, n_way):\n",
    "    \"\"\"\n",
    "    Computes the Prototypical Networks loss given embeddings of the query set,\n",
    "    class prototypes, and query labels.\n",
    "\n",
    "    Parameters:\n",
    "    - query_embeddings: The embeddings of the query set.\n",
    "    - prototypes: The class prototypes.\n",
    "    - query_labels: The labels for the query set.\n",
    "    - n_way: The number of classes (ways).\n",
    "\n",
    "    Returns:\n",
    "    - Loss calculated using Negative Log Likelihood.\n",
    "    \"\"\"\n",
    "    # Calculate the Euclidean distance from each query sample to the prototypes\n",
    "    distances = torch.cdist(query_embeddings, prototypes)\n",
    "    \n",
    "    # Convert distances to log probabilities\n",
    "    log_p_y = nn.functional.log_softmax(-distances, dim=1)\n",
    "    \n",
    "    # Calculate and return the loss\n",
    "    loss = nn.functional.nll_loss(log_p_y, query_labels.long())\n",
    "    return loss\n"
   ]
  }
 ],
 "metadata": {
  "kernelspec": {
   "display_name": "Python 3",
   "language": "python",
   "name": "python3"
  },
  "language_info": {
   "codemirror_mode": {
    "name": "ipython",
    "version": 3
   },
   "file_extension": ".py",
   "mimetype": "text/x-python",
   "name": "python",
   "nbconvert_exporter": "python",
   "pygments_lexer": "ipython3",
   "version": "3.10.12"
  }
 },
 "nbformat": 4,
 "nbformat_minor": 2
}
