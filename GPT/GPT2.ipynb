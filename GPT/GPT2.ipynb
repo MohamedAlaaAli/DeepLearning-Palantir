{
 "cells": [
  {
   "cell_type": "code",
   "execution_count": 1,
   "metadata": {},
   "outputs": [
    {
     "name": "stdout",
     "output_type": "stream",
     "text": [
      "--2024-07-06 19:02:00--  https://raw.githubusercontent.com/karpathy/char-rnn/master/data/tinyshakespeare/input.txt\n",
      "Resolving raw.githubusercontent.com (raw.githubusercontent.com)... 185.199.108.133, 185.199.110.133, 185.199.109.133, ...\n",
      "Connecting to raw.githubusercontent.com (raw.githubusercontent.com)|185.199.108.133|:443... connected.\n",
      "HTTP request sent, awaiting response... 200 OK\n",
      "Length: 1115394 (1.1M) [text/plain]\n",
      "Saving to: ‘input.txt’\n",
      "\n",
      "input.txt           100%[===================>]   1.06M  1.97MB/s    in 0.5s    \n",
      "\n",
      "2024-07-06 19:02:01 (1.97 MB/s) - ‘input.txt’ saved [1115394/1115394]\n",
      "\n"
     ]
    }
   ],
   "source": [
    "! wget https://raw.githubusercontent.com/karpathy/char-rnn/master/data/tinyshakespeare/input.txt"
   ]
  },
  {
   "cell_type": "code",
   "execution_count": 2,
   "metadata": {},
   "outputs": [
    {
     "name": "stdout",
     "output_type": "stream",
     "text": [
      "First Citizen:\n",
      "Before we proceed any further, hear me speak.\n",
      "\n",
      "All:\n",
      "Speak, speak.\n",
      "\n",
      "First Citizen:\n",
      "You are all resolved rather to die than to famish?\n",
      "\n",
      "All:\n",
      "Resolved. resolved.\n",
      "\n",
      "First Citizen:\n",
      "First, you\n"
     ]
    }
   ],
   "source": [
    "with open(\"input.txt\", \"r\", encoding=\"utf-8\") as f:\n",
    "    text = f.read()\n",
    "\n",
    "print(text[:200])  \n"
   ]
  },
  {
   "cell_type": "code",
   "execution_count": 3,
   "metadata": {},
   "outputs": [
    {
     "name": "stdout",
     "output_type": "stream",
     "text": [
      "Length of document is 1115394 character\n"
     ]
    }
   ],
   "source": [
    "print(f\"Length of document is {len(text)} character\")"
   ]
  },
  {
   "cell_type": "code",
   "execution_count": 4,
   "metadata": {},
   "outputs": [
    {
     "name": "stdout",
     "output_type": "stream",
     "text": [
      "size of vocabulary is 65\n",
      "and unique chars are \n",
      " !$&',-.3:;?ABCDEFGHIJKLMNOPQRSTUVWXYZabcdefghijklmnopqrstuvwxyz\n"
     ]
    }
   ],
   "source": [
    "# print unique characters in the entire vocabulary\n",
    "chars = sorted(list(set(text)), reverse=False)\n",
    "vocab_size = len(chars)\n",
    "print(f\"size of vocabulary is {vocab_size}\\nand unique chars are {''.join(chars)}\")"
   ]
  },
  {
   "cell_type": "code",
   "execution_count": 5,
   "metadata": {},
   "outputs": [
    {
     "name": "stdout",
     "output_type": "stream",
     "text": [
      "[20, 47, 47, 1, 58, 46, 43, 56, 43]\n",
      "Hii there\n"
     ]
    }
   ],
   "source": [
    "# tokenize\n",
    "str_to_int = {ch:i for i, ch in enumerate(chars)}\n",
    "int_to_str = {i:ch for i, ch in enumerate(chars)}\n",
    "encode = lambda word: [str_to_int[character] for character in word] # takes a string and outputs an interger represnentation for each character in it \n",
    "decode = lambda ints: \"\".join([int_to_str[num] for num in ints]) # takes a list of integers and outputs thier corresponding chars joined in a single string\n",
    "print(encode(\"Hii there\"))\n",
    "print(decode(encode(\"Hii there\")))"
   ]
  },
  {
   "cell_type": "code",
   "execution_count": 6,
   "metadata": {},
   "outputs": [
    {
     "name": "stdout",
     "output_type": "stream",
     "text": [
      "shape is torch.Size([1115394])\n"
     ]
    }
   ],
   "source": [
    "import torch\n",
    "\n",
    "data = torch.tensor(encode(text), dtype=torch.long)\n",
    "print(f\"shape is {data.shape}\")"
   ]
  },
  {
   "cell_type": "code",
   "execution_count": 7,
   "metadata": {},
   "outputs": [
    {
     "data": {
      "text/plain": [
       "tensor([18, 47, 56,  ..., 58,  1, 15])"
      ]
     },
     "execution_count": 7,
     "metadata": {},
     "output_type": "execute_result"
    }
   ],
   "source": [
    "data[:2000]"
   ]
  },
  {
   "cell_type": "code",
   "execution_count": 8,
   "metadata": {},
   "outputs": [],
   "source": [
    "# split to train and val sets\n",
    "n = int(0.9*len(data))\n",
    "train_set = data[:n]\n",
    "test_set = data[n:]"
   ]
  },
  {
   "cell_type": "code",
   "execution_count": 9,
   "metadata": {},
   "outputs": [],
   "source": [
    "torch.manual_seed(1337)\n",
    "BATCH_SIZE = 4 # how many sequency to process at a single pass\n",
    "BLOCK_SIZE = 8 # max context length to look into for making the predictions\n",
    "\n",
    "def get_batch(split_type):\n",
    "    data = train_set if split_type == \"train\" else test_set\n",
    "\n",
    "    ix = torch.randint(len(data)-BLOCK_SIZE, (BATCH_SIZE,))\n",
    "    x = torch.stack([data[i:i+BLOCK_SIZE] for i in ix])\n",
    "    y = torch.stack([data[i+1:i+BLOCK_SIZE+1] for i in ix])\n",
    "\n",
    "    return x, y"
   ]
  },
  {
   "cell_type": "code",
   "execution_count": 10,
   "metadata": {},
   "outputs": [
    {
     "name": "stdout",
     "output_type": "stream",
     "text": [
      "inputs shape :torch.Size([4, 8])\n",
      "inputs:tensor([[24, 43, 58,  5, 57,  1, 46, 43],\n",
      "        [44, 53, 56,  1, 58, 46, 39, 58],\n",
      "        [52, 58,  1, 58, 46, 39, 58,  1],\n",
      "        [25, 17, 27, 10,  0, 21,  1, 54]])\n",
      "targets shape :torch.Size([4, 8])\n",
      "targets :tensor([[43, 58,  5, 57,  1, 46, 43, 39],\n",
      "        [53, 56,  1, 58, 46, 39, 58,  1],\n",
      "        [58,  1, 58, 46, 39, 58,  1, 46],\n",
      "        [17, 27, 10,  0, 21,  1, 54, 39]])\n",
      "-----------------------------------\n",
      "when input context is [24]the target is 43\n",
      "when input context is [24, 43]the target is 58\n",
      "when input context is [24, 43, 58]the target is 5\n",
      "when input context is [24, 43, 58, 5]the target is 57\n",
      "when input context is [24, 43, 58, 5, 57]the target is 1\n",
      "when input context is [24, 43, 58, 5, 57, 1]the target is 46\n",
      "when input context is [24, 43, 58, 5, 57, 1, 46]the target is 43\n",
      "when input context is [24, 43, 58, 5, 57, 1, 46, 43]the target is 39\n",
      "when input context is [44]the target is 53\n",
      "when input context is [44, 53]the target is 56\n",
      "when input context is [44, 53, 56]the target is 1\n",
      "when input context is [44, 53, 56, 1]the target is 58\n",
      "when input context is [44, 53, 56, 1, 58]the target is 46\n",
      "when input context is [44, 53, 56, 1, 58, 46]the target is 39\n",
      "when input context is [44, 53, 56, 1, 58, 46, 39]the target is 58\n",
      "when input context is [44, 53, 56, 1, 58, 46, 39, 58]the target is 1\n",
      "when input context is [52]the target is 58\n",
      "when input context is [52, 58]the target is 1\n",
      "when input context is [52, 58, 1]the target is 58\n",
      "when input context is [52, 58, 1, 58]the target is 46\n",
      "when input context is [52, 58, 1, 58, 46]the target is 39\n",
      "when input context is [52, 58, 1, 58, 46, 39]the target is 58\n",
      "when input context is [52, 58, 1, 58, 46, 39, 58]the target is 1\n",
      "when input context is [52, 58, 1, 58, 46, 39, 58, 1]the target is 46\n",
      "when input context is [25]the target is 17\n",
      "when input context is [25, 17]the target is 27\n",
      "when input context is [25, 17, 27]the target is 10\n",
      "when input context is [25, 17, 27, 10]the target is 0\n",
      "when input context is [25, 17, 27, 10, 0]the target is 21\n",
      "when input context is [25, 17, 27, 10, 0, 21]the target is 1\n",
      "when input context is [25, 17, 27, 10, 0, 21, 1]the target is 54\n",
      "when input context is [25, 17, 27, 10, 0, 21, 1, 54]the target is 39\n"
     ]
    }
   ],
   "source": [
    "xb, yb = get_batch(\"train\")\n",
    "print(f\"inputs shape :{xb.shape}\")\n",
    "print(f\"inputs:{xb}\")\n",
    "print(f\"targets shape :{yb.shape}\")\n",
    "print(f\"targets :{yb}\")\n",
    "print(\"-----------------------------------\")\n",
    "for batch in range(BATCH_SIZE):\n",
    "    for t in range(BLOCK_SIZE):\n",
    "        context = xb[batch,:1+t]\n",
    "        target = yb[batch,t]\n",
    "        print(f\"when input context is {context.tolist()}the target is {target}\")\n"
   ]
  },
  {
   "cell_type": "code",
   "execution_count": 11,
   "metadata": {},
   "outputs": [
    {
     "name": "stdout",
     "output_type": "stream",
     "text": [
      "torch.Size([32, 65]) tensor(4.8786, grad_fn=<NllLossBackward0>)\n",
      "\n",
      "Sr?qP-QWktXoL&jLDJgOLVz'RIoDqHdhsV&vLLxatjscMpwLERSPyao.qfzs$Ys$zF-w,;eEkzxjgCKFChs!iWW.ObzDnxA Ms$3!dcbf?pGXepydZJSrF$Jrqt!:wwWSzPNxbjPiD&Q!a;yNt$Kr$o-gC$WSjJqfBKBySKtSKpwNNfyl&w:q-jluBatD$Lj;?yzyUca!UQ!vrpxZQgC-hlkq,ptKqHoiX-jjeLJ &slERj KUsBOL!mpJO!zLg'wNfqHAMgq'hZCWhu.W.IBcP \n",
      "RFJ&DEs,nw?pxE?xjNHHVxJ&D&vWWToiERJFuszPyZaNw$\n",
      "EQJMgzaveDDIoiMl&sMHkzdRptRCPVjwW.RSVMjs-bgRkzrBTEa!!oP fRSxq.PLboTMkX'DUYepxIBFAYuxKXe.jeh\n",
      "sa!3MGFrSjuM:wX!?BTMl!.?,M:bQzPHpYfN!Cbo'MmtDxBkDD3SBjyFdmY'DOqkWeRjlxyJB-bVbfd&\n"
     ]
    }
   ],
   "source": [
    "# create BI-Gram language model\n",
    "import torch.nn as nn\n",
    "from torch.nn import functional as F\n",
    "torch.manual_seed(1337)\n",
    "\n",
    "class BiGramLanguageModel(nn.Module):\n",
    "\n",
    "    def __init__(self, vocab_size):\n",
    "        super(BiGramLanguageModel, self).__init__()\n",
    "        \n",
    "        # embedding module having vocab_size tensors each of length vocab size\n",
    "        self.embedding_table = nn.Embedding(vocab_size, vocab_size) # each token will selecg a row from this table\n",
    "\n",
    "    \n",
    "    def calc_loss(self, y_hat, y_true):\n",
    "        return F.cross_entropy(y_hat, y_true)\n",
    "\n",
    "    def forward(self, xb, yb=None):\n",
    "        # xb shape is BatchSize, Time \n",
    "        loss = None\n",
    "        logits = self.embedding_table(xb) # output is input_shape, embedding Dimension which means B,T, vocabsize\n",
    "        if yb is not None:\n",
    "            B, T, C = logits.shape\n",
    "            logits = logits.view(B*T, C)\n",
    "            yb = yb.view(B*T)\n",
    "            loss = self.calc_loss(logits, yb)\n",
    "        \n",
    "        return logits, loss\n",
    "\n",
    "    def generate(self,idx, max_new_tokens):\n",
    "        # idx is B,T array of current context\n",
    "\n",
    "        for _ in range(max_new_tokens):\n",
    "            logits, loss = self.forward(idx)\n",
    "\n",
    "            # shape now is B,1,C\n",
    "            logits = logits[:, -1, :] # focus only on the last time step of the context\n",
    "            probes = F.softmax(logits, dim=1) # diminishes the dim 1 so shape is B,C\n",
    "\n",
    "            idx_next = torch.multinomial(probes, num_samples=1) # B, 1\n",
    "            idx = torch.cat((idx, idx_next), dim=1) # B, T+1\n",
    "        \n",
    "        return idx\n",
    "\n",
    "\n",
    "m = BiGramLanguageModel(vocab_size)\n",
    "logits, loss=m(xb,yb)\n",
    "print(logits.shape, loss)\n",
    "print(decode(m.generate(idx=torch.zeros((1,1), dtype=torch.long), max_new_tokens=500)[0].tolist()))"
   ]
  },
  {
   "cell_type": "code",
   "execution_count": 12,
   "metadata": {},
   "outputs": [],
   "source": [
    "optimizer = torch.optim.AdamW(m.parameters(), lr=1e-3)"
   ]
  },
  {
   "cell_type": "code",
   "execution_count": 17,
   "metadata": {},
   "outputs": [
    {
     "name": "stdout",
     "output_type": "stream",
     "text": [
      "2.48514723777771\n"
     ]
    }
   ],
   "source": [
    "BATCH_SIZE=32\n",
    "for epoch in range(10000):\n",
    "    xb,yb = get_batch(\"train\")\n",
    "\n",
    "    logits, loss = m(xb,yb)\n",
    "    optimizer.zero_grad(set_to_none=True)\n",
    "    loss.backward()\n",
    "    optimizer.step()\n",
    "\n",
    "print(loss.item())\n"
   ]
  },
  {
   "cell_type": "code",
   "execution_count": 18,
   "metadata": {},
   "outputs": [
    {
     "name": "stdout",
     "output_type": "stream",
     "text": [
      "\n",
      "Wr; b R:\n",
      "TEPro:\n",
      "ANTExcoth wairudort t whtheay the wissheryoloremestowized S:\n",
      "Whe moveen aqub k by fe fof pacirill h olave a I mber. de liell, forate o'tad gavisores; el y o ound pal wineatse.\n",
      "NN gumele caran tr.\n",
      "\n",
      "Boull ie, IXElitso thiour tf the, tise gematath'elld ourknrdovirou Inavene s\n",
      "\n",
      "RNGuancern jern:\n",
      "ORIme pis ne d ltharowid, AUshigounometinindofree thiay mps an y\n",
      "Joor:\n",
      "Whareave s s inapre,\n",
      "BUL: m-be tit sonerayole.\n",
      "D andu lfo s tangreshat,\n",
      "KE:\n",
      "crrser:\n",
      "Lard-boun lin, h washimammene s joull\n"
     ]
    }
   ],
   "source": [
    "print(decode(m.generate(idx=torch.zeros((1,1), dtype=torch.long), max_new_tokens=500)[0].tolist()))"
   ]
  }
 ],
 "metadata": {
  "kernelspec": {
   "display_name": "Python 3",
   "language": "python",
   "name": "python3"
  },
  "language_info": {
   "codemirror_mode": {
    "name": "ipython",
    "version": 3
   },
   "file_extension": ".py",
   "mimetype": "text/x-python",
   "name": "python",
   "nbconvert_exporter": "python",
   "pygments_lexer": "ipython3",
   "version": "3.10.12"
  }
 },
 "nbformat": 4,
 "nbformat_minor": 2
}
